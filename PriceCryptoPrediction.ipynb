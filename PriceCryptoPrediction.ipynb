{
  "nbformat": 4,
  "nbformat_minor": 0,
  "metadata": {
    "colab": {
      "name": "PriceCryptoPrediction.ipynb",
      "provenance": [],
      "authorship_tag": "ABX9TyMBjshy8dk773awGJV83aus",
      "include_colab_link": true
    },
    "kernelspec": {
      "name": "python3",
      "display_name": "Python 3"
    },
    "language_info": {
      "name": "python"
    }
  },
  "cells": [
    {
      "cell_type": "markdown",
      "metadata": {
        "id": "view-in-github",
        "colab_type": "text"
      },
      "source": [
        "<a href=\"https://colab.research.google.com/github/Pedrobertuola/Mercado-Financeiro/blob/main/PriceCryptoPrediction.ipynb\" target=\"_parent\"><img src=\"https://colab.research.google.com/assets/colab-badge.svg\" alt=\"Open In Colab\"/></a>"
      ]
    },
    {
      "cell_type": "code",
      "metadata": {
        "id": "Z9vsvWu-CrUP"
      },
      "source": [
        "import numpy as np\n",
        "import matplotlib.pyplot as plt\n",
        "import pandas as pd\n",
        "import pandas_datareader as web\n",
        "import datetime as dt"
      ],
      "execution_count": null,
      "outputs": []
    },
    {
      "cell_type": "code",
      "metadata": {
        "id": "Yii8SnVCDfVr"
      },
      "source": [
        "crypto_currency = 'TRX'\n",
        "against_currency = 'USD'"
      ],
      "execution_count": null,
      "outputs": []
    },
    {
      "cell_type": "code",
      "metadata": {
        "id": "n_L7v9NLCvI9"
      },
      "source": [
        "start = dt.datetime(2018,1,1)\n",
        "end= dt.datetime.now()\n",
        "df = web.DataReader(f'{crypto_currency}-{against_currency}', 'yahoo', start, end)\n"
      ],
      "execution_count": null,
      "outputs": []
    },
    {
      "cell_type": "code",
      "metadata": {
        "id": "uxnO1h3DeJ93"
      },
      "source": [
        "\n",
        "\n",
        "#Show the data\n",
        "df = df.dropna()"
      ],
      "execution_count": null,
      "outputs": []
    },
    {
      "cell_type": "code",
      "metadata": {
        "colab": {
          "base_uri": "https://localhost:8080/",
          "height": 450
        },
        "id": "Sv21voBkDqFT",
        "outputId": "4aef7dbf-a1f2-4797-b5e2-551b88b7bfcc"
      },
      "source": [
        "df = df[['Close']]\n",
        "df"
      ],
      "execution_count": null,
      "outputs": [
        {
          "output_type": "execute_result",
          "data": {
            "text/html": [
              "<div>\n",
              "<style scoped>\n",
              "    .dataframe tbody tr th:only-of-type {\n",
              "        vertical-align: middle;\n",
              "    }\n",
              "\n",
              "    .dataframe tbody tr th {\n",
              "        vertical-align: top;\n",
              "    }\n",
              "\n",
              "    .dataframe thead th {\n",
              "        text-align: right;\n",
              "    }\n",
              "</style>\n",
              "<table border=\"1\" class=\"dataframe\">\n",
              "  <thead>\n",
              "    <tr style=\"text-align: right;\">\n",
              "      <th></th>\n",
              "      <th>Close</th>\n",
              "    </tr>\n",
              "    <tr>\n",
              "      <th>Date</th>\n",
              "      <th></th>\n",
              "    </tr>\n",
              "  </thead>\n",
              "  <tbody>\n",
              "    <tr>\n",
              "      <th>2018-01-01</th>\n",
              "      <td>0.051695</td>\n",
              "    </tr>\n",
              "    <tr>\n",
              "      <th>2018-01-02</th>\n",
              "      <td>0.078682</td>\n",
              "    </tr>\n",
              "    <tr>\n",
              "      <th>2018-01-03</th>\n",
              "      <td>0.094703</td>\n",
              "    </tr>\n",
              "    <tr>\n",
              "      <th>2018-01-04</th>\n",
              "      <td>0.207974</td>\n",
              "    </tr>\n",
              "    <tr>\n",
              "      <th>2018-01-05</th>\n",
              "      <td>0.220555</td>\n",
              "    </tr>\n",
              "    <tr>\n",
              "      <th>...</th>\n",
              "      <td>...</td>\n",
              "    </tr>\n",
              "    <tr>\n",
              "      <th>2021-05-12</th>\n",
              "      <td>0.121473</td>\n",
              "    </tr>\n",
              "    <tr>\n",
              "      <th>2021-05-13</th>\n",
              "      <td>0.124776</td>\n",
              "    </tr>\n",
              "    <tr>\n",
              "      <th>2021-05-14</th>\n",
              "      <td>0.120691</td>\n",
              "    </tr>\n",
              "    <tr>\n",
              "      <th>2021-05-15</th>\n",
              "      <td>0.119506</td>\n",
              "    </tr>\n",
              "    <tr>\n",
              "      <th>2021-05-18</th>\n",
              "      <td>0.114747</td>\n",
              "    </tr>\n",
              "  </tbody>\n",
              "</table>\n",
              "<p>1229 rows × 1 columns</p>\n",
              "</div>"
            ],
            "text/plain": [
              "               Close\n",
              "Date                \n",
              "2018-01-01  0.051695\n",
              "2018-01-02  0.078682\n",
              "2018-01-03  0.094703\n",
              "2018-01-04  0.207974\n",
              "2018-01-05  0.220555\n",
              "...              ...\n",
              "2021-05-12  0.121473\n",
              "2021-05-13  0.124776\n",
              "2021-05-14  0.120691\n",
              "2021-05-15  0.119506\n",
              "2021-05-18  0.114747\n",
              "\n",
              "[1229 rows x 1 columns]"
            ]
          },
          "metadata": {
            "tags": []
          },
          "execution_count": 5
        }
      ]
    },
    {
      "cell_type": "code",
      "metadata": {
        "colab": {
          "base_uri": "https://localhost:8080/",
          "height": 450
        },
        "id": "-pYshjCND4yj",
        "outputId": "21d97504-c100-4a6a-9a69-75b32c68322c"
      },
      "source": [
        "#Create a variable to store the number of days into the future that we want to predict\n",
        "prediction_days =1\n",
        "#Create a new column called Prediction\n",
        "df['Prediction'] = df[['Close']].shift(-prediction_days)\n",
        "\n",
        "#show the datas\n",
        "df"
      ],
      "execution_count": null,
      "outputs": [
        {
          "output_type": "execute_result",
          "data": {
            "text/html": [
              "<div>\n",
              "<style scoped>\n",
              "    .dataframe tbody tr th:only-of-type {\n",
              "        vertical-align: middle;\n",
              "    }\n",
              "\n",
              "    .dataframe tbody tr th {\n",
              "        vertical-align: top;\n",
              "    }\n",
              "\n",
              "    .dataframe thead th {\n",
              "        text-align: right;\n",
              "    }\n",
              "</style>\n",
              "<table border=\"1\" class=\"dataframe\">\n",
              "  <thead>\n",
              "    <tr style=\"text-align: right;\">\n",
              "      <th></th>\n",
              "      <th>Close</th>\n",
              "      <th>Prediction</th>\n",
              "    </tr>\n",
              "    <tr>\n",
              "      <th>Date</th>\n",
              "      <th></th>\n",
              "      <th></th>\n",
              "    </tr>\n",
              "  </thead>\n",
              "  <tbody>\n",
              "    <tr>\n",
              "      <th>2018-01-01</th>\n",
              "      <td>0.051695</td>\n",
              "      <td>0.078682</td>\n",
              "    </tr>\n",
              "    <tr>\n",
              "      <th>2018-01-02</th>\n",
              "      <td>0.078682</td>\n",
              "      <td>0.094703</td>\n",
              "    </tr>\n",
              "    <tr>\n",
              "      <th>2018-01-03</th>\n",
              "      <td>0.094703</td>\n",
              "      <td>0.207974</td>\n",
              "    </tr>\n",
              "    <tr>\n",
              "      <th>2018-01-04</th>\n",
              "      <td>0.207974</td>\n",
              "      <td>0.220555</td>\n",
              "    </tr>\n",
              "    <tr>\n",
              "      <th>2018-01-05</th>\n",
              "      <td>0.220555</td>\n",
              "      <td>0.174797</td>\n",
              "    </tr>\n",
              "    <tr>\n",
              "      <th>...</th>\n",
              "      <td>...</td>\n",
              "      <td>...</td>\n",
              "    </tr>\n",
              "    <tr>\n",
              "      <th>2021-05-12</th>\n",
              "      <td>0.121473</td>\n",
              "      <td>0.124776</td>\n",
              "    </tr>\n",
              "    <tr>\n",
              "      <th>2021-05-13</th>\n",
              "      <td>0.124776</td>\n",
              "      <td>0.120691</td>\n",
              "    </tr>\n",
              "    <tr>\n",
              "      <th>2021-05-14</th>\n",
              "      <td>0.120691</td>\n",
              "      <td>0.119506</td>\n",
              "    </tr>\n",
              "    <tr>\n",
              "      <th>2021-05-15</th>\n",
              "      <td>0.119506</td>\n",
              "      <td>0.114747</td>\n",
              "    </tr>\n",
              "    <tr>\n",
              "      <th>2021-05-18</th>\n",
              "      <td>0.114747</td>\n",
              "      <td>NaN</td>\n",
              "    </tr>\n",
              "  </tbody>\n",
              "</table>\n",
              "<p>1229 rows × 2 columns</p>\n",
              "</div>"
            ],
            "text/plain": [
              "               Close  Prediction\n",
              "Date                            \n",
              "2018-01-01  0.051695    0.078682\n",
              "2018-01-02  0.078682    0.094703\n",
              "2018-01-03  0.094703    0.207974\n",
              "2018-01-04  0.207974    0.220555\n",
              "2018-01-05  0.220555    0.174797\n",
              "...              ...         ...\n",
              "2021-05-12  0.121473    0.124776\n",
              "2021-05-13  0.124776    0.120691\n",
              "2021-05-14  0.120691    0.119506\n",
              "2021-05-15  0.119506    0.114747\n",
              "2021-05-18  0.114747         NaN\n",
              "\n",
              "[1229 rows x 2 columns]"
            ]
          },
          "metadata": {
            "tags": []
          },
          "execution_count": 6
        }
      ]
    },
    {
      "cell_type": "code",
      "metadata": {
        "colab": {
          "base_uri": "https://localhost:8080/"
        },
        "id": "iZLyBugJEBvs",
        "outputId": "fde5b0c7-3c9b-4240-90c8-8304487093ec"
      },
      "source": [
        "#Create the independent data set (X)\n",
        "X = np.array(df.drop(['Prediction'], 1))\n",
        "#Remove the last n+1 rows of data where n is the prediction_days\n",
        "X = X[:len(df) -prediction_days -1]\n",
        "#Print the data\n",
        "print(X)"
      ],
      "execution_count": null,
      "outputs": [
        {
          "output_type": "stream",
          "text": [
            "[[0.051695]\n",
            " [0.078682]\n",
            " [0.094703]\n",
            " ...\n",
            " [0.121473]\n",
            " [0.124776]\n",
            " [0.120691]]\n"
          ],
          "name": "stdout"
        }
      ]
    },
    {
      "cell_type": "code",
      "metadata": {
        "colab": {
          "base_uri": "https://localhost:8080/"
        },
        "id": "cqHGpNiGEIqv",
        "outputId": "f59e93eb-7b30-4cc4-eb94-bdee0f406b8b"
      },
      "source": [
        "#Create a dependent data set (y)\n",
        "y = np.array(df['Prediction'])\n",
        "#Get all of the y values except the last n+1 rows\n",
        "y =  y[:-prediction_days -1 ]\n",
        "#Show the data\n",
        "print(y)"
      ],
      "execution_count": null,
      "outputs": [
        {
          "output_type": "stream",
          "text": [
            "[0.078682 0.094703 0.207974 ... 0.124776 0.120691 0.119506]\n"
          ],
          "name": "stdout"
        }
      ]
    },
    {
      "cell_type": "code",
      "metadata": {
        "id": "FtD5zR-uELuI"
      },
      "source": [
        "#Split the data into 80% training data set and a 20% testing data set\n",
        "from sklearn.model_selection import train_test_split\n",
        "x_train, x_test, y_train, y_test = train_test_split(X, y, test_size = 0.2)"
      ],
      "execution_count": null,
      "outputs": []
    },
    {
      "cell_type": "code",
      "metadata": {
        "colab": {
          "base_uri": "https://localhost:8080/"
        },
        "id": "eJFPn__7EOvv",
        "outputId": "cbb695d1-6181-4b4c-a073-85d1029747bf"
      },
      "source": [
        "#Use the randomForestRegressor for the model\n",
        "from sklearn.ensemble import RandomForestRegressor\n",
        "forest = RandomForestRegressor(n_estimators = 2, random_state =587)\n",
        "forest.fit(x_train, y_train)\n",
        "print(forest.score(x_test, y_test))"
      ],
      "execution_count": null,
      "outputs": [
        {
          "output_type": "stream",
          "text": [
            "0.8957766563085383\n"
          ],
          "name": "stdout"
        }
      ]
    },
    {
      "cell_type": "code",
      "metadata": {
        "colab": {
          "base_uri": "https://localhost:8080/"
        },
        "id": "UA-c_mdRERiZ",
        "outputId": "c721f6c6-6873-4ec8-bb47-35fa3573196f"
      },
      "source": [
        "#Show how close the predicted values and the actual values are\n",
        "prediction = forest.predict(x_test)\n",
        "#Print the predicted test values\n",
        "print(prediction)\n",
        "print()\n",
        "#Print the actual values\n",
        "print(y_test)"
      ],
      "execution_count": null,
      "outputs": [
        {
          "output_type": "stream",
          "text": [
            "[0.01724625 0.027819   0.048028   0.02228223 0.01011967 0.02263596\n",
            " 0.01175628 0.06103    0.031176   0.01724625 0.1211215  0.01334525\n",
            " 0.01794297 0.01547923 0.025082   0.013623   0.017256   0.02322667\n",
            " 0.152484   0.0649     0.010365   0.01443622 0.0443623  0.0145635\n",
            " 0.0243872  0.027062   0.03148642 0.01468865 0.02429933 0.0366475\n",
            " 0.02000567 0.02327916 0.02583088 0.014283   0.10895542 0.0201248\n",
            " 0.0138905  0.0303922  0.030423   0.069992   0.02722    0.1227445\n",
            " 0.04872067 0.02633425 0.03046425 0.038423   0.02482    0.03043525\n",
            " 0.02653133 0.0380545  0.02585209 0.0654385  0.04474825 0.036256\n",
            " 0.0654385  0.0161455  0.02808357 0.0130119  0.043075   0.03497264\n",
            " 0.018179   0.0649     0.0178825  0.01794297 0.01466172 0.025739\n",
            " 0.0145635  0.0270115  0.01333125 0.02012649 0.02012649 0.024138\n",
            " 0.03758075 0.01763567 0.0155865  0.016477   0.01929521 0.053793\n",
            " 0.014283   0.02403852 0.02172286 0.10908    0.01744017 0.0243872\n",
            " 0.02695459 0.016785   0.01929521 0.016785   0.01475708 0.02115617\n",
            " 0.02322667 0.02954045 0.084778   0.02381325 0.014283   0.02660715\n",
            " 0.028558   0.03255475 0.02943125 0.02403852 0.0246025  0.02954045\n",
            " 0.02002125 0.01437922 0.0547565  0.02633425 0.01872665 0.017028\n",
            " 0.02348978 0.02445975 0.01583657 0.01175628 0.01286217 0.03831725\n",
            " 0.01627765 0.0547565  0.119506   0.0641525  0.02489183 0.0366158\n",
            " 0.22055499 0.03021333 0.02525775 0.050737   0.046886   0.01427333\n",
            " 0.01175628 0.0260409  0.053437   0.0139575  0.0226811  0.02322667\n",
            " 0.02327916 0.0147877  0.0125109  0.073574   0.013623   0.030699\n",
            " 0.0105665  0.0243872  0.03043525 0.02260256 0.01898778 0.02516683\n",
            " 0.09336    0.075755   0.02263596 0.0765135  0.02261958 0.01952578\n",
            " 0.02228223 0.01794297 0.01906499 0.046606   0.0366158  0.031293\n",
            " 0.043075   0.027062   0.03634275 0.023281   0.01627765 0.01702975\n",
            " 0.01164732 0.01627765 0.02263596 0.02695459 0.025153   0.053437\n",
            " 0.0132063  0.030423   0.01729775 0.036975   0.01334525 0.02660715\n",
            " 0.02205673 0.0382028  0.025426   0.0138905  0.0291185  0.027933\n",
            " 0.06865375 0.02374265 0.057577   0.0143315  0.026888   0.0380215\n",
            " 0.021429   0.025732   0.01595367 0.01418722 0.015803   0.02012649\n",
            " 0.02000567 0.01607269 0.1208895  0.02174561 0.041533   0.0139575\n",
            " 0.024232   0.01692675 0.04978475 0.0547565  0.020021   0.119506\n",
            " 0.03171333 0.018517   0.014946   0.0130119  0.017028   0.0132063\n",
            " 0.01607269 0.020949   0.023868   0.01794297 0.022185   0.024232\n",
            " 0.0634935  0.129373   0.02327916 0.04119    0.02805492 0.0130119\n",
            " 0.1252655  0.041533   0.041533   0.039759   0.036478   0.021429\n",
            " 0.02699127 0.018517   0.03533288 0.027782   0.0382028  0.03968875\n",
            " 0.0147877  0.01906499 0.02381325 0.02261958 0.04474825 0.02379417\n",
            " 0.021429   0.130755   0.04978    0.020868   0.01444111 0.01822   ]\n",
            "\n",
            "[0.017906   0.030388   0.037933   0.022192   0.009885   0.021999\n",
            " 0.010749   0.049606   0.027866   0.0174     0.11013    0.013225\n",
            " 0.01719    0.01569    0.025273   0.014019   0.017608   0.023023\n",
            " 0.157435   0.060541   0.011229   0.014917   0.049082   0.013876\n",
            " 0.024637   0.0272     0.029363   0.015356   0.022937   0.034373\n",
            " 0.022035   0.023      0.023822   0.016064   0.102706   0.020396\n",
            " 0.013306   0.030708   0.030792   0.073162   0.029532   0.12579399\n",
            " 0.046849   0.028659   0.026714   0.037369   0.027262   0.029187\n",
            " 0.026935   0.037106   0.025727   0.063563   0.044472   0.034439\n",
            " 0.053761   0.017561   0.026559   0.012373   0.047818   0.030583\n",
            " 0.016941   0.055622   0.017666   0.0176     0.014789   0.027545\n",
            " 0.015113   0.027239   0.013339   0.019676   0.020352   0.023071\n",
            " 0.034451   0.017495   0.016629   0.019887   0.019677   0.054914\n",
            " 0.015505   0.023366   0.022053   0.13672499 0.017957   0.02561\n",
            " 0.02627    0.017385   0.020776   0.01439    0.014831   0.022331\n",
            " 0.023997   0.031523   0.093777   0.024209   0.016804   0.027042\n",
            " 0.030329   0.031353   0.030317   0.024196   0.022839   0.030101\n",
            " 0.019509   0.016314   0.040799   0.026961   0.019389   0.017953\n",
            " 0.022564   0.025941   0.015001   0.011246   0.013601   0.046034\n",
            " 0.016198   0.046189   0.121473   0.058041   0.024937   0.032544\n",
            " 0.174797   0.038112   0.025321   0.05138    0.051542   0.013862\n",
            " 0.011575   0.024362   0.058793   0.014559   0.02032    0.022811\n",
            " 0.023613   0.01473    0.011661   0.089145   0.013743   0.027901\n",
            " 0.009762   0.026325   0.029282   0.023292   0.019059   0.025044\n",
            " 0.207974   0.074037   0.021728   0.054488   0.020004   0.019521\n",
            " 0.022479   0.018683   0.018964   0.045173   0.032643   0.035067\n",
            " 0.04287    0.023586   0.034502   0.020222   0.015993   0.017833\n",
            " 0.012603   0.016411   0.022648   0.024727   0.027697   0.053677\n",
            " 0.013058   0.032927   0.018227   0.039529   0.012784   0.026558\n",
            " 0.02128    0.038895   0.02649    0.0133     0.033023   0.035755\n",
            " 0.064001   0.023643   0.056079   0.013633   0.028509   0.030161\n",
            " 0.022481   0.025054   0.015512   0.014318   0.017397   0.019053\n",
            " 0.01936    0.015533   0.124374   0.020325   0.038601   0.014252\n",
            " 0.024073   0.018017   0.078682   0.043356   0.016253   0.14635301\n",
            " 0.030602   0.019947   0.015004   0.012586   0.017641   0.013695\n",
            " 0.016375   0.018682   0.023171   0.018083   0.023622   0.023592\n",
            " 0.059179   0.117295   0.023144   0.041256   0.030853   0.013376\n",
            " 0.110282   0.045311   0.04246    0.038438   0.03001    0.020157\n",
            " 0.025944   0.020447   0.034997   0.029206   0.037861   0.041769\n",
            " 0.015695   0.018525   0.02518    0.02107    0.042875   0.024617\n",
            " 0.022703   0.122353   0.03562    0.018143   0.016146   0.015964  ]\n"
          ],
          "name": "stdout"
        }
      ]
    },
    {
      "cell_type": "code",
      "metadata": {
        "colab": {
          "base_uri": "https://localhost:8080/"
        },
        "id": "bh_z0LCZESnE",
        "outputId": "f6379b7a-2454-4bdf-f835-42f081e3cd37"
      },
      "source": [
        "#Get the validation data for the model\n",
        "#Create a variable to store all of the rows in the data set except the last n rows\n",
        "temp_df = df[:-prediction_days]\n",
        "#Create a variable to store the independent price value\n",
        "x_val = temp_df.tail(1)['Close'][0]\n",
        "#Show the data\n",
        "print(x_val)"
      ],
      "execution_count": null,
      "outputs": [
        {
          "output_type": "stream",
          "text": [
            "0.11950600147247314\n"
          ],
          "name": "stdout"
        }
      ]
    },
    {
      "cell_type": "code",
      "metadata": {
        "colab": {
          "base_uri": "https://localhost:8080/"
        },
        "id": "9C1Cw575Eg_R",
        "outputId": "76df9901-ff37-46ac-a84c-205da44be8d1"
      },
      "source": [
        "prediction = forest.predict([[x_val]])\n",
        "#Print the price of Dogecoin for the next n days\n",
        "\n",
        "print(f'The price of {crypto_currency} in ', prediction_days, 'day(s) is predicted to be', prediction)\n",
        "print('The actual price was', temp_df.tail(1)['Prediction'][0])"
      ],
      "execution_count": null,
      "outputs": [
        {
          "output_type": "stream",
          "text": [
            "The price of TRX in  1 day(s) is predicted to be [0.119506]\n",
            "The actual price was 0.11474662274122238\n"
          ],
          "name": "stdout"
        }
      ]
    },
    {
      "cell_type": "code",
      "metadata": {
        "colab": {
          "base_uri": "https://localhost:8080/"
        },
        "id": "a2i9M7G0GIlg",
        "outputId": "14f2f6fa-c5db-438d-9264-dede403d7ef9"
      },
      "source": [
        "ganho= float(((prediction-temp_df.tail(1)['Prediction'][0])/temp_df.tail(1)['Prediction'][0])*100)\n",
        "print('Ganho previsto com operação', ganho, '%')"
      ],
      "execution_count": null,
      "outputs": [
        {
          "output_type": "stream",
          "text": [
            "Ganho previsto com operação 4.147728811142579 %\n"
          ],
          "name": "stdout"
        }
      ]
    }
  ]
}